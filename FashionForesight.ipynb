{
 "cells": [
  {
   "cell_type": "code",
   "execution_count": 1,
   "id": "d3e6a4c5",
   "metadata": {},
   "outputs": [],
   "source": [
    "import tensorflow as tf\n",
    "from tensorflow.keras.layers import Dense, GlobalAveragePooling2D\n",
    "from tensorflow.keras.preprocessing.image import ImageDataGenerator\n",
    "from tensorflow.keras.applications import InceptionV3\n",
    "from tensorflow.keras.models import Model"
   ]
  },
  {
   "cell_type": "code",
   "execution_count": 2,
   "id": "d302560e",
   "metadata": {},
   "outputs": [],
   "source": [
    "# Define your dataset directory\n",
    "dataset_dir = 'C:\\\\Users\\\\sonaw\\\\Downloads\\\\dataset'\n",
    "batch_size = 32\n",
    "num_classes = 2  # T-shirt and Not T-shirt"
   ]
  },
  {
   "cell_type": "markdown",
   "id": "71e6ded0",
   "metadata": {},
   "source": [
    "Data Preparation and Augmentation:\n",
    "\n",
    "ImageDataGenerator is used for data augmentation. It rescales pixel values and applies various transformations like rotation, width shift, height shift, and horizontal flip to create augmented training data."
   ]
  },
  {
   "cell_type": "code",
   "execution_count": 3,
   "id": "f9475858",
   "metadata": {},
   "outputs": [],
   "source": [
    "# Data Augmentation\n",
    "datagen = ImageDataGenerator(\n",
    "    rescale=1./255,\n",
    "    rotation_range=20,\n",
    "    width_shift_range=0.2,\n",
    "    height_shift_range=0.2,\n",
    "    horizontal_flip=True,\n",
    "    fill_mode='nearest'\n",
    ")\n"
   ]
  },
  {
   "cell_type": "markdown",
   "id": "81f1fae5",
   "metadata": {},
   "source": [
    "Loading and Preprocessing Data:\n",
    "\n",
    "ImageDataGenerator.flow_from_directory loads and preprocesses the dataset. It specifies the target size for images and uses categorical class mode.\n",
    "\n",
    "The flow_from_directory function loads and preprocesses the images from the specified directory (dataset_dir).\n",
    "\n",
    "target_size sets the dimensions to which the images are resized (299x299 in this case, which is the input size for InceptionV3).\n",
    "\n",
    "batch_size determines the number of images processed in each batch.\n",
    "class_mode is set to 'categorical' since this code is prepared for multi-class classification (more than two classes)."
   ]
  },
  {
   "cell_type": "code",
   "execution_count": 4,
   "id": "619d3d65",
   "metadata": {},
   "outputs": [
    {
     "name": "stdout",
     "output_type": "stream",
     "text": [
      "Found 1993 images belonging to 1 classes.\n"
     ]
    }
   ],
   "source": [
    "# Load and preprocess your dataset\n",
    "train_generator = datagen.flow_from_directory(\n",
    "    dataset_dir,\n",
    "    target_size=(299, 299),  # InceptionV3's input size\n",
    "    batch_size=batch_size,\n",
    "    class_mode='categorical'\n",
    ")"
   ]
  },
  {
   "cell_type": "markdown",
   "id": "1aae94b0",
   "metadata": {},
   "source": [
    "Loading the Pre-trained InceptionV3 Model:\n",
    "\n",
    "The InceptionV3 model with pre-trained weights (excluding the top classification layer) is loaded from Keras' applications. This model is used as a feature extractor."
   ]
  },
  {
   "cell_type": "code",
   "execution_count": 5,
   "id": "f34e1ee5",
   "metadata": {},
   "outputs": [],
   "source": [
    "# Load InceptionV3 model with pre-trained weights (excluding top classification layer)\n",
    "base_model = InceptionV3(weights='imagenet', include_top=False)"
   ]
  },
  {
   "cell_type": "markdown",
   "id": "71d01f9d",
   "metadata": {},
   "source": [
    "Custom Classification Layers:\n",
    "\n",
    "Custom classification layers are added on top of the pre-trained InceptionV3 model. These include global average pooling, a dense layer with 1024 units, and a final dense layer with 2 units (for binary classification) and softmax activation."
   ]
  },
  {
   "cell_type": "code",
   "execution_count": 6,
   "id": "b171941b",
   "metadata": {},
   "outputs": [],
   "source": [
    "# Add your custom classification layers\n",
    "x = base_model.output\n",
    "x = GlobalAveragePooling2D()(x)\n",
    "x = Dense(1024, activation='relu')(x)\n",
    "predictions = Dense(num_classes, activation='softmax')(x)\n",
    "\n",
    "model = Model(inputs=base_model.input, outputs=predictions)"
   ]
  },
  {
   "cell_type": "markdown",
   "id": "cec390c1",
   "metadata": {},
   "source": [
    "Freezing Pre-trained Layers:\n",
    "\n",
    "The pre-trained layers of InceptionV3 are set to non-trainable to retain the knowledge from the pre-trained model.\n",
    "\n",
    "This loop iterates through the layers of the pre-trained InceptionV3 model and sets them to be non-trainable. This is a common practice to retain the pre-trained knowledge and prevent it from being updated during training."
   ]
  },
  {
   "cell_type": "code",
   "execution_count": 7,
   "id": "17b4584d",
   "metadata": {},
   "outputs": [],
   "source": [
    "\n",
    "# Freeze pre-trained layers\n",
    "for layer in base_model.layers:\n",
    "    layer.trainable = False"
   ]
  },
  {
   "cell_type": "markdown",
   "id": "eb7188ee",
   "metadata": {},
   "source": [
    "Model Compilation:\n",
    "\n",
    "The model is compiled using the Adam optimizer, categorical cross-entropy loss (suitable for multiple classes), and accuracy as the evaluation metric. Since you are performing binary classification, you may consider changing the loss function to 'binary_crossentropy' and the output layer to have a single unit with sigmoid activation."
   ]
  },
  {
   "cell_type": "code",
   "execution_count": 8,
   "id": "919e9ab3",
   "metadata": {},
   "outputs": [],
   "source": [
    "# Compile the model\n",
    "model.compile(optimizer='adam', loss='categorical_crossentropy', metrics=['accuracy'])"
   ]
  },
  {
   "cell_type": "markdown",
   "id": "f22840e3",
   "metadata": {},
   "source": [
    "The model is compiled with the Adam optimizer, categorical cross-entropy loss (suitable for multi-class classification), and accuracy as the evaluation metric. If you are performing binary classification, you may want to change the loss function to 'binary_crossentropy' and modify the output layer accordingly."
   ]
  },
  {
   "cell_type": "markdown",
   "id": "ae179fa5",
   "metadata": {},
   "source": [
    "Model Training:\n",
    "\n",
    "The model is trained using the augmented data for a specified number of epochs. You can adjust the number of epochs as needed."
   ]
  },
  {
   "cell_type": "code",
   "execution_count": 10,
   "id": "5c122895",
   "metadata": {},
   "outputs": [
    {
     "name": "stdout",
     "output_type": "stream",
     "text": [
      "63/63 [==============================] - 541s 9s/step - loss: 29.5077 - accuracy: 0.5168\n"
     ]
    },
    {
     "data": {
      "text/plain": [
       "<keras.src.callbacks.History at 0x1f605a2a210>"
      ]
     },
     "execution_count": 10,
     "metadata": {},
     "output_type": "execute_result"
    }
   ],
   "source": [
    "# Train the model\n",
    "model.fit(\n",
    "    train_generator,\n",
    "    steps_per_epoch=len(train_generator),\n",
    "    epochs=1,  # You can adjust the number of epochs\n",
    ")"
   ]
  },
  {
   "cell_type": "markdown",
   "id": "d2d2ae47",
   "metadata": {},
   "source": [
    "The model is trained using the training data generator (train_generator) for a specified number of epochs. You can adjust the number of epochs as needed for training."
   ]
  },
  {
   "cell_type": "code",
   "execution_count": 11,
   "id": "e1c43679",
   "metadata": {},
   "outputs": [
    {
     "name": "stderr",
     "output_type": "stream",
     "text": [
      "C:\\Users\\sonaw\\anaconda3\\Lib\\site-packages\\keras\\src\\engine\\training.py:3000: UserWarning: You are saving your model as an HDF5 file via `model.save()`. This file format is considered legacy. We recommend using instead the native Keras format, e.g. `model.save('my_model.keras')`.\n",
      "  saving_api.save_model(\n"
     ]
    }
   ],
   "source": [
    "\n",
    "# Save the model\n",
    "model.save('tshirt_classifier.h5')"
   ]
  },
  {
   "cell_type": "markdown",
   "id": "44b9a52a",
   "metadata": {},
   "source": [
    "The trained model is saved to a file named 'tshirt_classifier.h5' for future use, such as making predictions on new data."
   ]
  },
  {
   "cell_type": "code",
   "execution_count": 13,
   "id": "596ecc1d",
   "metadata": {},
   "outputs": [
    {
     "name": "stdout",
     "output_type": "stream",
     "text": [
      "Found 1993 images belonging to 1 classes.\n",
      "63/63 [==============================] - 439s 7s/step\n"
     ]
    }
   ],
   "source": [
    "# Define the test data directory\n",
    "test_data_dir = 'C:\\\\Users\\\\sonaw\\\\Downloads\\\\dataset'\n",
    "\n",
    "# Create a test data generator\n",
    "test_datagen = ImageDataGenerator(rescale=1./255)\n",
    "\n",
    "test_generator = test_datagen.flow_from_directory(\n",
    "    test_data_dir,\n",
    "    target_size=(299, 299),  # Match the input size of InceptionV3\n",
    "    batch_size=batch_size,\n",
    "    class_mode='categorical'\n",
    ")\n",
    "\n",
    "# Make predictions on the test data\n",
    "predictions = model.predict(test_generator)\n",
    "\n"
   ]
  },
  {
   "cell_type": "markdown",
   "id": "b8ff8417",
   "metadata": {},
   "source": [
    "model.fit is a function used to train a neural network model. It takes several parameters, and here's what each parameter does:\n",
    "\n",
    "train_generator: This is the data generator that provides batches of training data to the model. In your code, train_generator is an instance of ImageDataGenerator that reads and augments images from the 'dataset_dir'. It's used to generate training data in batches.\n",
    "\n",
    "steps_per_epoch: This parameter determines how many batches of data are processed in each epoch. len(train_generator) calculates the number of batches available in the train_generator. Setting steps_per_epoch to this value means that the model will train on the entire dataset (all batches) in one epoch.\n",
    "\n",
    "epochs: An epoch is one complete pass through the entire training dataset. In this code, you've set epochs to 1, which means the model will go through all the available training data once. You can adjust this number to control how many times the model should iterate over the entire dataset."
   ]
  },
  {
   "cell_type": "code",
   "execution_count": 14,
   "id": "85faba3f",
   "metadata": {},
   "outputs": [
    {
     "name": "stdout",
     "output_type": "stream",
     "text": [
      "63/63 [==============================] - 424s 7s/step - loss: 4.8117 - accuracy: 0.9408\n",
      "Accuracy: 0.9407927989959717\n"
     ]
    }
   ],
   "source": [
    "\n",
    "# Evaluate the model\n",
    "eval_metrics = model.evaluate(test_generator)\n",
    "print(f'Accuracy: {eval_metrics[1]}')"
   ]
  },
  {
   "cell_type": "markdown",
   "id": "d3a8eaa5",
   "metadata": {},
   "source": [
    "The accuracy is approximately 94.08%."
   ]
  }
 ],
 "metadata": {
  "kernelspec": {
   "display_name": "Python 3 (ipykernel)",
   "language": "python",
   "name": "python3"
  },
  "language_info": {
   "codemirror_mode": {
    "name": "ipython",
    "version": 3
   },
   "file_extension": ".py",
   "mimetype": "text/x-python",
   "name": "python",
   "nbconvert_exporter": "python",
   "pygments_lexer": "ipython3",
   "version": "3.11.4"
  }
 },
 "nbformat": 4,
 "nbformat_minor": 5
}
